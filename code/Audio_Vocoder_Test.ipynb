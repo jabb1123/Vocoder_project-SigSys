{
 "metadata": {
  "name": "",
  "signature": "sha256:6b4a0d2c0593491f522ce07d2aa79c0771141ae3f5112db2d322812a40b38efe"
 },
 "nbformat": 3,
 "nbformat_minor": 0,
 "worksheets": [
  {
   "cells": [
    {
     "cell_type": "code",
     "collapsed": false,
     "input": [
      "import numpy as np\n",
      "import thinkdsp\n",
      "import pyaudio\n",
      "\n",
      "def vocoder(filename = \"flesh_wound.wav\", signal_type = \"saw\", pitch = 220, sample = 1.0/200, ):\n",
      "\n",
      "    voice_wave = thinkdsp.read_wave(filename)\n",
      "    frames= voice_wave.framerate\n",
      "    print(voice_wave.duration)\n",
      "    print(voice_wave.framerate)\n",
      "    #wave.normalize()\n",
      "    p = pyaudio.PyAudio()\n",
      "    stream = p.open(format = pyaudio.paInt16,channels=1, rate=frames, input=False, output=True)     \n",
      "    print(voice_wave.ys.astype(np.int16))\n",
      "#    stream.write(voice_wave.ys.astype(np.int16).tostring())\n",
      "#    stream.stop_stream()\n",
      "    \n",
      "    'Turns the input wave into segmented parts to vocode properlly'\n",
      "    voice_seg = []\n",
      "    for s in np.arange(0,voice_wave.duration,sample):\n",
      "        voice_seg.append(voice_wave.segment(s,sample))\n",
      "    \n",
      "    v_spectrum = voice_wave.make_spectrum()\n",
      "#    v_spectrum.plot()\n",
      "    \n",
      "    'Chooses what generated signal to use, and at what pitch.'\n",
      "    if signal_type == 'saw':\n",
      "        sig = thinkdsp.SawtoothSignal(freq=pitch, amp=1, offset=0)\n",
      "    elif signal_type == 'sin':\n",
      "        sig = thinkdsp.SinSignal(freq=pitch, amp=1, offset=0)\n",
      "    elif signal_type == 'cos':\n",
      "        sig = thinkdsp.CosSignal(freq=pitch, amp=1, offset=0)\n",
      "    elif signal_type == 'tri':\n",
      "        sig = thinkdsp.TriangleSignal(freq=pitch, amp=1, offset=0)\n",
      "    elif signal_type == 'sqr':\n",
      "        sig = thinkdsp.SquareSignal(freq=pitch, amp=1, offset=0)\n",
      "    elif signal_type == 'par':\n",
      "        sig = thinkdsp.ParabolicSignal(freq=pitch, amp=1, offset=0)\n",
      "    sig = thinkdsp.SawtoothSignal(freq=pitch, amp=1, offset=0)\n",
      "    wave=sig.make_wave(framerate = voice_wave.framerate, duration = voice_wave.duration)\n",
      "    #wave.normalize()\n",
      "#    wave.apodize()\n",
      "#    wave.plot()\n",
      "    stream.write(wave.ys.astype(np.int16).tostring())\n",
      "    print wave.ys\n",
      "#    for ys in wave:\n",
      "#        print ys    \n",
      "    'Seperated the generated signal into equal segments as the voice wave.'\n",
      "    Seg = []\n",
      "    for s in np.arange(0,wave.duration,sample):\n",
      "        Seg.append(wave.segment(s,sample))\n",
      "    \n",
      "    \"\"\"This is the vocoder.  It multiplies the amplitudes of two seperate signals\n",
      "    to produce a singular response\"\"\"    \n",
      "    \n",
      "    for i in range(len(voice_seg)):\n",
      "        vocoder_spec=thinkdsp.Spectrum(hs = voice_seg[i].make_spectrum().amps*Seg[i].make_spectrum().amps,framerate = frames)\n",
      "        if i == 0:\n",
      "            vocoder_wave =vocoder_spec.make_wave()\n",
      "        else:\n",
      "             vocoder_wave |= vocoder_spec.make_wave()\n",
      "#    vocoder_wave.plot()\n",
      "    \n",
      "#    vocoder_wave.make_spectrum().plot()\n",
      "    \n",
      "    vocoder_wave.normalize()\n",
      "    stream = p.open(format = pyaudio.paInt16,channels=1, rate=frames, input=False, output=True)\n",
      "    print (vocoder_wave.ys*2**13).astype(np.int16)\n",
      "    stream.write((vocoder_wave.ys*2**15).astype(np.int16).tostring())\n",
      "    stream.stop_stream()\n",
      "    stream.close()\n",
      "    p.terminate() \n",
      "    print \"done\"\n",
      "    \n",
      "    return (vocoder_wave)\n",
      "\n",
      "if __name__ == \"__main__\":\n",
      "    vocoder()"
     ],
     "language": "python",
     "metadata": {},
     "outputs": [
      {
       "output_type": "stream",
       "stream": "stdout",
       "text": [
        "6.15328798186\n",
        "11025\n",
        "[ -256     0  -256 ..., -1278 -1027 -1021]"
       ]
      },
      {
       "output_type": "stream",
       "stream": "stdout",
       "text": [
        "\n",
        "[-0.99974976 -0.95982735 -0.91990494 ...,  0.32767034  0.36759275\n",
        "  0.40751516]"
       ]
      },
      {
       "output_type": "stream",
       "stream": "stdout",
       "text": [
        "\n",
        "[286 189 117 ..., 143 160 207]"
       ]
      },
      {
       "output_type": "stream",
       "stream": "stdout",
       "text": [
        "\n",
        "done"
       ]
      },
      {
       "output_type": "stream",
       "stream": "stdout",
       "text": [
        "\n"
       ]
      }
     ],
     "prompt_number": 3
    },
    {
     "cell_type": "code",
     "collapsed": false,
     "input": [],
     "language": "python",
     "metadata": {},
     "outputs": []
    }
   ],
   "metadata": {}
  }
 ]
}