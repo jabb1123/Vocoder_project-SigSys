{
 "metadata": {
  "name": "",
  "signature": "sha256:aca5dd54786f57b84ad374dcc7beec36c4ea007a9d962556b1b9c52a0364bebd"
 },
 "nbformat": 3,
 "nbformat_minor": 0,
 "worksheets": [
  {
   "cells": [
    {
     "cell_type": "markdown",
     "metadata": {},
     "source": [
      "Well, I've put it off long enough.  It's time to prove the Convolution\n",
      "Theorem (CT), which states:\n",
      "\n",
      "$DFT(f \\ast g) = DFT(f) DFT(g)$\n",
      "\n",
      "where $f$ and $g$ are vectors with the same length, $N$.\n",
      "\n",
      "\n",
      "First, let's assemble the pieces we'll need.\n",
      "The DFT of $g$, which I'll call $G$, is:\n",
      "\n",
      "$ G[n] = \\sum_k g[k] \\exp(-2 \\pi i n k / N) $\n",
      "\n",
      "where $N$ is the length of $g$, and $n$ is an index that runs from 0\n",
      "to $N-1$.  So $G$ is a vector of complex numbers, with length $N$.\n",
      "\n",
      "And here's the definition of convolution:\n",
      "\n",
      "$ (f \\ast g)[j] = \\sum_k f[k] g[j-k] $\n",
      "\n",
      "Convolution is commutative, so I could equivalently write:\n",
      "\n",
      "$ (f \\ast g)[j] = \\sum_k f[j-k] g[k] $\n",
      "\n",
      "Now let's consider the special case where $f$ is a complex\n",
      "exponential; specifically,\n",
      "\n",
      "$ f_n[\\kappa] = \\exp(2 \\pi i n \\kappa / N) $\n",
      "\n",
      "where $N$ is the length of $f$ and $g$, and\n",
      "$n$ is one of the integers from 0 to $N-1$.  I'm using\n",
      "$\\kappa$ here as a placekeeper to avoid confusion because\n",
      "very soon I will need to substitute $j-k$ for $\\kappa$.\n",
      "\n",
      "Plugging $f_n$ into the second definition of convolution yields\n",
      "\n",
      "$ (f_n \\ast g)[j] = \\sum_k \\exp(2 \\pi i n (j-k) / N) g[k]  $\n",
      "\n",
      "We can split the first term into a product:\n",
      "\n",
      "$ (f_n \\ast g)[j] = \\sum_k \\exp(2 \\pi i n j / N) \\exp(-2 \\pi i n k / N) g[k]  $\n",
      "\n",
      "The first half does not depend on $k$, so we can pull it out of the\n",
      "summation:\n",
      "\n",
      "$ (f_n \\ast g)[j] = \\exp(2 \\pi i n j / N) \\sum_k \\exp(-2 \\pi i n k / N) g[k]  $\n",
      "\n",
      "Now we recognize the first term is $f_n$ (with $j$ substituted for\n",
      "$\\kappa$), and the summation is $G[n]$.  So we can write:\n",
      "\n",
      "$ (f_n \\ast g)[j] = f_n[j] G[n] $\n",
      "\n",
      "which shows that for each complex exponential, $f_n$, convolution\n",
      "with $g$ has the effect of multiplying $f_n$ by $G[n]$.  In other\n",
      "words, each $f_n$ is an eigenvector of this operation, and\n",
      "$G[n]$ is the corresponding eigenvalue.\n"
     ]
    }
   ],
   "metadata": {}
  }
 ]
}