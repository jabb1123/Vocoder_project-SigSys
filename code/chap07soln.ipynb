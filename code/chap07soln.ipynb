{
 "metadata": {
  "name": "",
  "signature": "sha256:9394162c403b5ddc24df1b4c1fd9fbce6dafe83573a3822c7a127e70834db1f3"
 },
 "nbformat": 3,
 "nbformat_minor": 0,
 "worksheets": [
  {
   "cells": [
    {
     "cell_type": "code",
     "collapsed": false,
     "input": [
      "from __future__ import print_function, division\n",
      "\n",
      "import thinkdsp\n",
      "import thinkplot\n",
      "import thinkstats2\n",
      "import math\n",
      "import numpy\n",
      "\n",
      "%precision 3\n",
      "%matplotlib inline\n",
      "\n",
      "PI2 = 2 * math.pi\n",
      "i = complex(0, 1)"
     ],
     "language": "python",
     "metadata": {},
     "outputs": [],
     "prompt_number": 4
    },
    {
     "cell_type": "code",
     "collapsed": false,
     "input": [
      "ys = [-0.5, 0.1, 0.7, -0.1]\n",
      "hs = numpy.fft.fft(ys)\n",
      "print(hs)"
     ],
     "language": "python",
     "metadata": {},
     "outputs": [
      {
       "output_type": "stream",
       "stream": "stdout",
       "text": [
        "[ 0.2+0.j  -1.2-0.2j  0.2+0.j  -1.2+0.2j]\n"
       ]
      }
     ],
     "prompt_number": 37
    },
    {
     "cell_type": "code",
     "collapsed": false,
     "input": [
      "def dft(ys):\n",
      "    N = len(ys)\n",
      "    ts = numpy.arange(N) / N\n",
      "    freqs = numpy.arange(N)\n",
      "    args = numpy.outer(ts, freqs)\n",
      "    M = numpy.exp(i * PI2 * args)\n",
      "    amps = M.conj().transpose().dot(ys)\n",
      "    return amps"
     ],
     "language": "python",
     "metadata": {},
     "outputs": [],
     "prompt_number": 38
    },
    {
     "cell_type": "code",
     "collapsed": false,
     "input": [
      "hs2 = dft(ys)\n",
      "print(sum(abs(hs - hs2)))"
     ],
     "language": "python",
     "metadata": {},
     "outputs": [
      {
       "output_type": "stream",
       "stream": "stdout",
       "text": [
        "5.86471177389e-16\n"
       ]
      }
     ],
     "prompt_number": 41
    },
    {
     "cell_type": "code",
     "collapsed": false,
     "input": [
      "def fft(ys):\n",
      "    N = len(ys)\n",
      "    if N == 1:\n",
      "        return ys\n",
      "    \n",
      "    He = numpy.fft.fft(ys[::2])\n",
      "    Ho = numpy.fft.fft(ys[1::2])\n",
      "    \n",
      "    ns = numpy.arange(N)\n",
      "    W = numpy.exp(-i * PI2 * ns / N)\n",
      "    \n",
      "    return numpy.tile(He, 2) + W * numpy.tile(Ho, 2)"
     ],
     "language": "python",
     "metadata": {},
     "outputs": [],
     "prompt_number": 42
    },
    {
     "cell_type": "code",
     "collapsed": false,
     "input": [
      "hs3 = fft(ys)\n",
      "print(sum(abs(hs - hs3)))"
     ],
     "language": "python",
     "metadata": {},
     "outputs": [
      {
       "output_type": "stream",
       "stream": "stdout",
       "text": [
        "0.0\n"
       ]
      }
     ],
     "prompt_number": 43
    },
    {
     "cell_type": "code",
     "collapsed": false,
     "input": [
      "def fft(ys):\n",
      "    N = len(ys)\n",
      "    if N == 1:\n",
      "        return ys\n",
      "    \n",
      "    He = fft(ys[::2])\n",
      "    Ho = fft(ys[1::2])\n",
      "    \n",
      "    ns = numpy.arange(N)\n",
      "    W = numpy.exp(-i * PI2 * ns / N)\n",
      "    \n",
      "    return numpy.tile(He, 2) + W * numpy.tile(Ho, 2)"
     ],
     "language": "python",
     "metadata": {},
     "outputs": [],
     "prompt_number": 46
    },
    {
     "cell_type": "code",
     "collapsed": false,
     "input": [
      "hs4 = fft(ys)\n",
      "print(sum(abs(hs - hs4)))"
     ],
     "language": "python",
     "metadata": {},
     "outputs": [
      {
       "output_type": "stream",
       "stream": "stdout",
       "text": [
        "1.66533453694e-16\n"
       ]
      }
     ],
     "prompt_number": 47
    },
    {
     "cell_type": "code",
     "collapsed": false,
     "input": [],
     "language": "python",
     "metadata": {},
     "outputs": []
    }
   ],
   "metadata": {}
  }
 ]
}