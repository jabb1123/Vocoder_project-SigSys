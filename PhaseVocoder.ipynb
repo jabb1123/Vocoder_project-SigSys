{
 "metadata": {
  "name": "",
  "signature": "sha256:c2c5348d3131fa32f6a0bc69abb7a8472bdb109c413b2e85742a512b9198b42e"
 },
 "nbformat": 3,
 "nbformat_minor": 0,
 "worksheets": [
  {
   "cells": [
    {
     "cell_type": "code",
     "collapsed": false,
     "input": [
      "import sys\n",
      "from scipy import *\n",
      "from pylab import *\n",
      "from scipy.io import wavfile\n",
      "import pyaudio\n",
      "import wave\n",
      "import time\n",
      "import numpy as np\n",
      "\n",
      "\n",
      "%matplotlib inline"
     ],
     "language": "python",
     "metadata": {},
     "outputs": [],
     "prompt_number": 1
    },
    {
     "cell_type": "code",
     "collapsed": false,
     "input": [],
     "language": "python",
     "metadata": {},
     "outputs": []
    }
   ],
   "metadata": {}
  }
 ]
}