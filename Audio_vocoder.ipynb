{
 "metadata": {
  "name": "",
  "signature": "sha256:094eca6bd7078e7cf408e5bfcdc51ed9e373bdafeff270b6ceb96d2e6d768e85"
 },
 "nbformat": 3,
 "nbformat_minor": 0,
 "worksheets": [
  {
   "cells": [
    {
     "cell_type": "code",
     "collapsed": false,
     "input": [
      "import sys\n",
      "from scipy import *\n",
      "from pylab import *\n",
      "from scipy.io import wavfile\n",
      "import pyaudio\n",
      "import wave\n",
      "import time\n",
      "import numpy as np\n",
      "\n",
      "\n",
      "%matplotlib inline"
     ],
     "language": "python",
     "metadata": {},
     "outputs": [],
     "prompt_number": 1
    },
    {
     "cell_type": "code",
     "collapsed": false,
     "input": [
      "def SinSig (freq = 440,amp =1, offset = 0):\n",
      "    framerate=11025\n",
      "    dt = 1.0 / framerate\n",
      "    ts = np.arange(0, 1, dt)\n",
      "    period = 1.0 / freq\n",
      "    phases = 2*np.pi * freq * ts + offset\n",
      "    ys = amp * np.sin(phases)\n",
      "    return ys"
     ],
     "language": "python",
     "metadata": {},
     "outputs": [],
     "prompt_number": 2
    },
    {
     "cell_type": "code",
     "collapsed": false,
     "input": [
      "sin = []\n",
      "for i in range(100):\n",
      "    if i%1 == 0:\n",
      "        \n",
      "        sin.append(SinSig(freq = 220+220*(i), amp = 1/(i+1)))\n",
      "mix = sum(sin)\n",
      "print mix"
     ],
     "language": "python",
     "metadata": {},
     "outputs": [
      {
       "output_type": "stream",
       "stream": "stdout",
       "text": [
        "-1.40332190313e-12\n"
       ]
      }
     ],
     "prompt_number": 3
    },
    {
     "cell_type": "code",
     "collapsed": false,
     "input": [
      "sampFreq, snd = wavfile.read('440_sine.wav')\n",
      "snd = snd / (2.**15)\n",
      "s1 = snd[:,0] \n",
      "length = snd.shape"
     ],
     "language": "python",
     "metadata": {},
     "outputs": [],
     "prompt_number": 4
    },
    {
     "cell_type": "code",
     "collapsed": false,
     "input": [
      "timeArray = arange(0, length[0], 1)\n",
      "timeArray = timeArray / sampFreq\n",
      "timeArray = timeArray * 1000\n",
      "plot(timeArray, s1, color='k')\n",
      "ylabel('Amplitude')\n",
      "xlabel('Time (ms)')"
     ],
     "language": "python",
     "metadata": {},
     "outputs": [
      {
       "metadata": {},
       "output_type": "pyout",
       "prompt_number": 5,
       "text": [
        "<matplotlib.text.Text at 0xe9d3208>"
       ]
      },
      {
       "metadata": {},
       "output_type": "display_data",
       "png": "[encoded data removed]",
       "text": [
        "<matplotlib.figure.Figure at 0xa6f1160>"
       ]
      }
     ],
     "prompt_number": 5
    },
    {
     "cell_type": "code",
     "collapsed": false,
     "input": [
      "n = len(s1) \n",
      "p = np.fft.fft(s1)\n",
      "\n",
      "freq = np.fft.fftfreq(len(p))\n",
      "plot(freq, abs(p))\n",
      "\n",
      "xlabel('Frequency (Hz)')\n",
      "ylabel('Amplitude')"
     ],
     "language": "python",
     "metadata": {},
     "outputs": [
      {
       "metadata": {},
       "output_type": "pyout",
       "prompt_number": 6,
       "text": [
        "<matplotlib.text.Text at 0xe9fc1d0>"
       ]
      },
      {
       "metadata": {},
       "output_type": "display_data",
       "png": "[encoded data removed]",
       "text": [
        "<matplotlib.figure.Figure at 0xa6dbf28>"
       ]
      }
     ],
     "prompt_number": 6
    },
    {
     "cell_type": "code",
     "collapsed": false,
     "input": [
      "freq, mlkf = wavfile.read('MLKDream_64kb.wav')\n",
      "mlkf = mlkf / (2.**15)\n",
      "length = mlkf.shape"
     ],
     "language": "python",
     "metadata": {},
     "outputs": [
      {
       "output_type": "stream",
       "stream": "stderr",
       "text": [
        "c:\\Anaconda\\lib\\site-packages\\scipy\\io\\wavfile.py:172: WavFileWarning: Chunk (non-data) not understood, skipping it.\n",
        "  WavFileWarning)\n"
       ]
      }
     ],
     "prompt_number": 7
    },
    {
     "cell_type": "code",
     "collapsed": false,
     "input": [
      "timeArray = arange(0, length[0], 1)\n",
      "timeArray = timeArray / freq\n",
      "timeArray = timeArray * 1000\n",
      "plot(timeArray, mlkf, color='k')\n",
      "ylabel('Amplitude')\n",
      "xlabel('Time (ms)')"
     ],
     "language": "python",
     "metadata": {},
     "outputs": [
      {
       "metadata": {},
       "output_type": "pyout",
       "prompt_number": 8,
       "text": [
        "<matplotlib.text.Text at 0xeca6e48>"
       ]
      },
      {
       "output_type": "stream",
       "stream": "stderr",
       "text": [
        "c:\\Anaconda\\lib\\site-packages\\IPython\\core\\formatters.py:239: FormatterWarning: Exception in image/png formatter: Allocated too many blocks\n",
        "  FormatterWarning,\n"
       ]
      },
      {
       "metadata": {},
       "output_type": "display_data",
       "text": [
        "<matplotlib.figure.Figure at 0x3b9cc88>"
       ]
      }
     ],
     "prompt_number": 8
    },
    {
     "cell_type": "code",
     "collapsed": false,
     "input": [],
     "language": "python",
     "metadata": {},
     "outputs": [],
     "prompt_number": 8
    }
   ],
   "metadata": {}
  }
 ]
}